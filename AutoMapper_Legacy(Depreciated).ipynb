{
 "cells": [
  {
   "cell_type": "code",
   "execution_count": 37,
   "metadata": {},
   "outputs": [],
   "source": [
    "import numpy as np\n",
    "import pandas as pd\n",
    "import re\n",
    "import random\n",
    "import time\n",
    "import pandas as pd\n",
    "import pickle\n",
    "from sklearn.feature_extraction.text import TfidfVectorizer\n",
    "\n",
    "training_data = pd.read_excel(\"NPD_Data.xlsx\", header=0).values\n",
    "amazon = pd.read_excel(\"Amazon_Unmapped4.xlsx\", header=0).values"
   ]
  },
  {
   "cell_type": "code",
   "execution_count": 38,
   "metadata": {},
   "outputs": [],
   "source": [
    "# Divides mapped from unmapped\n",
    "testing_data = amazon[amazon[:,3] != \"Unmapped\"]\n",
    "amazon_unmapped = amazon[amazon[:,3] == \"Unmapped\"]"
   ]
  },
  {
   "cell_type": "code",
   "execution_count": 40,
   "metadata": {},
   "outputs": [],
   "source": [
    "# Divides description of each product into individual words\n",
    "def splitter(df):\n",
    "    split = [0]*df.shape[0]\n",
    "    # Useless strings to be removed\n",
    "    purge_list = [\"\",\"a\",\"and\",\"with\",\"for\",\"in\",\"the\",\"of\",\"to\",\"x\",\"disney\",\"-\",\"&\"]\n",
    "    \n",
    "    # Divides description into individual strings\n",
    "    for i in range(0,df.shape[0]):\n",
    "        split[i] = [x.lower() for x in (re.split('[ _,+\\'/#?:;()|]',str(df[i][0])))]\n",
    "        \n",
    "        for j in purge_list:\n",
    "            while(j in split[i]): \n",
    "                split[i].remove(j)\n",
    "    return split"
   ]
  },
  {
   "cell_type": "code",
   "execution_count": 41,
   "metadata": {},
   "outputs": [],
   "source": [
    "training_corpus = splitter(training_data)\n",
    "testing_corpus = splitter(testing_data)"
   ]
  },
  {
   "cell_type": "code",
   "execution_count": 42,
   "metadata": {},
   "outputs": [],
   "source": [
    "# Not super useful, just counts occurences of each term in the entire sheet\n",
    "def count_occurrences(df):\n",
    "    dict = {}\n",
    "    for i in range(0,len(df)):\n",
    "        for j in range(0,len(df[i])):\n",
    "            if df[i][j] not in dict:\n",
    "                dict[df[i][j]] = {}\n",
    "            if i not in dict[df[i][j]]:\n",
    "                dict[df[i][j]][i] = 0\n",
    "            dict[df[i][j]][i] += 1\n",
    "    return dict"
   ]
  },
  {
   "cell_type": "code",
   "execution_count": 43,
   "metadata": {},
   "outputs": [],
   "source": [
    "training_count = count_occurrences(training_corpus)"
   ]
  },
  {
   "cell_type": "code",
   "execution_count": 44,
   "metadata": {},
   "outputs": [],
   "source": [
    "# Finds occurences of each property, e.g. \"Frozen\": 2000\n",
    "def count_properties(dic):\n",
    "    count = {}\n",
    "    for i in dic:\n",
    "        count[i] = 0\n",
    "        for j in dic[i]:\n",
    "            count[i] += dic[i][j]\n",
    "    return count"
   ]
  },
  {
   "cell_type": "code",
   "execution_count": 45,
   "metadata": {},
   "outputs": [],
   "source": [
    "CP = count_properties(training_count)\n",
    "# Sorts dictionary of properties into order of occurrence\n",
    "CP = {k: v for k, v in sorted(CP.items(), key=lambda item: item[1], reverse=True)}"
   ]
  },
  {
   "cell_type": "code",
   "execution_count": 46,
   "metadata": {},
   "outputs": [],
   "source": [
    "# Lists to be used for training\n",
    "X = training_data[:,1]\n",
    "y = training_corpus"
   ]
  },
  {
   "cell_type": "code",
   "execution_count": 10,
   "metadata": {},
   "outputs": [
    {
     "name": "stdout",
     "output_type": "stream",
     "text": [
      "10 % complete...\n",
      "Elapsed time: 3.6166666666666667 minutes\n",
      "\n",
      "20 % complete...\n",
      "Elapsed time: 10.8 minutes\n",
      "\n",
      "30 % complete...\n",
      "Elapsed time: 18.183333333333334 minutes\n",
      "\n",
      "40 % complete...\n",
      "Elapsed time: 25.816666666666666 minutes\n",
      "\n",
      "50 % complete...\n",
      "Elapsed time: 35.28333333333333 minutes\n",
      "\n",
      "60 % complete...\n",
      "Elapsed time: 47.0 minutes\n",
      "\n",
      "70 % complete...\n",
      "Elapsed time: 56.36666666666667 minutes\n",
      "\n",
      "80 % complete...\n",
      "Elapsed time: 66.11666666666666 minutes\n",
      "\n",
      "90 % complete...\n",
      "Elapsed time: 74.48333333333333 minutes\n",
      "\n",
      "100 % complete...\n",
      "Elapsed time: 82.81666666666666 minutes\n",
      "\n"
     ]
    }
   ],
   "source": [
    "# This will take FOREVER, so just let it sit and run for a good 20mins(?)\n",
    "count = 0\n",
    "trainingDict = {}\n",
    "# Go through all the properties and the list of products and add each indivdual word of item description to the property it associates with and tally the occurences of this word\n",
    "# Word will then build an \"identity of words that are commonly used with it.\n",
    "load = len(CP)\n",
    "prev = 0\n",
    "start_time = time.time()\n",
    "for listKeyword in CP:\n",
    "    if round((count/load)*10) != prev:\n",
    "            print(round((count/load)*10)*10, \"% complete...\")\n",
    "            t = time.time() - start_time\n",
    "            print(\"Elapsed time:\", round((t)-(t%1))/60, \"minutes\\n\")\n",
    "            prev = round((count/load)*10)\n",
    "    for j in range(len(y)):\n",
    "        for keyword in y[j]:\n",
    "            if listKeyword == keyword:\n",
    "                if X[j] not in trainingDict:\n",
    "                    trainingDict[X[j]] = {}\n",
    "                if listKeyword not in trainingDict[X[j]]:\n",
    "                    trainingDict[X[j]][listKeyword] = 1\n",
    "                else:\n",
    "                    trainingDict[X[j]][listKeyword] += 1\n",
    "    count += 1"
   ]
  },
  {
   "cell_type": "code",
   "execution_count": 48,
   "metadata": {},
   "outputs": [
    {
     "name": "stdout",
     "output_type": "stream",
     "text": [
      "2704\n"
     ]
    }
   ],
   "source": [
    "for i in list(trainingDict):\n",
    "    for j in list(trainingDict[i]):\n",
    "        if trainingDict[i][j] == 1:\n",
    "            del trainingDict[i][j]\n",
    "\n",
    "del trainingDict[\"All Other\"]\n",
    "del trainingDict[\"Other License\"]\n",
    "# Number of unique properties used in training set\n",
    "print(len(trainingDict))\n",
    "pickle.dump(trainingDict, open(\"TrainingData.p\",\"wb\"))\n",
    "\n",
    "# Will print FAT list of properties and list of words used with it. Just scroll past it.\n",
    "# for i in trainingDict:\n",
    "#     print(i)\n",
    "#     print(trainingDict[i])\n",
    "#     print(\"\\n\")"
   ]
  },
  {
   "cell_type": "code",
   "execution_count": 49,
   "metadata": {},
   "outputs": [],
   "source": [
    "trainingDict = pickle.load(open( \"TrainingData.p\",\"rb\" ))"
   ]
  },
  {
   "cell_type": "code",
   "execution_count": 50,
   "metadata": {},
   "outputs": [],
   "source": [
    "property_tree = [\n",
    "    [\"avengers\",\"marvel\",\"marvel universe\",\"marvel other\",\"spider-man\",\"iron man\",\"guardian of the galaxy\",\"guardians of the galaxy\",\"captain america movie 3\",\"thor movie 3\",\n",
    "     \"avengers movie 3 part 1\",\"captain america movie - do not use\",\"Spider-Man Movie (2017)\",\"Ultimate Spider-Man\",\"Thor - Do Not Use\"],\n",
    "    [\"disney princess\",\"frozen\",\"disney frozen\",\"frozen 2\",\"frozen ii\",\"beauty and the beast\",\"little mermaid\",\"cinderella\",\"tangled\",\"sleeping beauty\",\"snow white & the 7 dwarfs\",\n",
    "     \"Princess and the Frog\",\"aladdin\",\"Pocahontas\",\"Mulan\"],\n",
    "    [\"cars the movie\",\"cars\",\"cars 2\",\"cars 3\"],\n",
    "    [\"mickey mouse\",\"mickey & friends\",\"minnie\",\"mickey mouse club\"],\n",
    "    [\"star wars\",\"star wars: rogue one\",\"star wars - other\",\"the mandalorian\",\"star wars: the force awakens (episode 7)\",\"The Phantom Menace (Episode 1)\",\"The Empire Strikes Back (Episode 5)\",\n",
    "    \"Star Wars Sequels - Other\",\"Clone Wars\"],\n",
    "    [\"frozen\",\"disney frozen\",\"frozen 2\",\"frozen ii\"],\n",
    "    [\"winnie the pooh\",\"winnie the pooh & friends\"],\n",
    "    [\"disney fairies\",\"fairies\"],\n",
    "    [\"finding nemo/finding dory\",\"finding dory\",\"finding nemo\"],\n",
    "    [\"lilo & stitch\",\"lilo and stitch\"],\n",
    "    [\"nightmare before christmas\",\"nightmare before xmas\"],\n",
    "    [\"big hero 6\",\"big hero six\"],\n",
    "    [\"Lion Guard\",\"The Lion Guard\"],\n",
    "    [\"Monsters,  Inc.\",\"Monsters Inc\"],\n",
    "    [\"Moana/Vaiana\",\"Moana\"]\n",
    "]\n",
    "property_tree = [[x.lower() for x in sublist] for sublist in property_tree]"
   ]
  },
  {
   "cell_type": "code",
   "execution_count": null,
   "metadata": {},
   "outputs": [],
   "source": [
    "def testRandom(prodSplit, propList, thres, shouldMult):\n",
    "    correct = 0\n",
    "    total = 0\n",
    "#     print(\"Running test...\")\n",
    "    ignored = 0\n",
    "    for i in range(2000):\n",
    "        isCorrect = False\n",
    "        index = random.randrange(len(propList))\n",
    "        product = prodSplit[index]\n",
    "#         print(product)\n",
    "        top10 = {}\n",
    "        top102 = {}\n",
    "        followCheck = \"\"\n",
    "        previousWord = \"\"\n",
    "        for word in product:\n",
    "#             print(\"Word: \", word)\n",
    "            for property in trainingDict:\n",
    "                for keyword in trainingDict[property]:\n",
    "                    if word == keyword:\n",
    "                        if property in top10:\n",
    "                            if previousWord in trainingDict[property]:\n",
    "                                if shouldMult: top10[property] += (trainingDict[property][keyword]*trainingDict[property][previousWord])-trainingDict[property][previousWord]\n",
    "                                else: top10[property] *= trainingDict[property][keyword]\n",
    "                            else:\n",
    "                                top10[property] += trainingDict[property][keyword]\n",
    "                        else:\n",
    "                            top10[property] = trainingDict[property][keyword]\n",
    "\n",
    "                        if property in top102:\n",
    "                            top102[property] += 1\n",
    "                        else:\n",
    "                            top102[property] = 1\n",
    "#                         print(\"Property: \", property, trainingDict[property][keyword])\n",
    "            previousWord = word\n",
    "\n",
    "\n",
    "        top10 = {k: v for k, v in sorted(top10.items(), key=lambda item: item[1], reverse=True)}\n",
    "        top102 = {k: v for k, v in sorted(top102.items(), key=lambda item: item[1], reverse=True)}\n",
    "        # ~40% of products are ignored\n",
    "        if len(top10) < 2 or top10[next(iter(top10))]/top10[list(top10.keys())[1]] <= thres:\n",
    "            ignored += 1\n",
    "            continue\n",
    "#         print(top10)\n",
    "        total += 1\n",
    "        if top10 != {}:\n",
    "            if next(iter(top10)).lower() == propList[index].lower():\n",
    "                correct += 1\n",
    "                isCorrect = True\n",
    "#                 print(\"Correct:\", propList[index])\n",
    "            else:\n",
    "                for branch in property_tree:\n",
    "                    if next(iter(top10)).lower() in branch and propList[index].lower() in branch:\n",
    "                        correct += 1\n",
    "                        isCorrect = True\n",
    "#                         print(\"Correct:\", next(iter(top10)), \"&\", propList[index])\n",
    "                        break\n",
    "                if not isCorrect:\n",
    "#                     print(product)\n",
    "#                     print(\"Incorrect:\",next(iter(top10)),\"\\nAnswer:\", propList[index], \"\\n\")\n",
    "#                     print(\"Correct? (t/f/na):\")\n",
    "#                     x = input()\n",
    "#                     x = \"f\"\n",
    "#                     if x == \"t\":\n",
    "#                         correct += 1\n",
    "#                         isCorrect = True\n",
    "#                     elif x == \"na\":\n",
    "#                         total -= 1\n",
    "#                     else:\n",
    "#                         print(top10, \"\\n\")\n",
    "                \n",
    "    return ignored, correct, total"
   ]
  },
  {
   "cell_type": "code",
   "execution_count": 69,
   "metadata": {},
   "outputs": [],
   "source": [
    "def predict(prodSplit):\n",
    "    done = 0\n",
    "    count = 0\n",
    "    load = 500\n",
    "    prev = 0\n",
    "    start_time = time.time()\n",
    "    \n",
    "    propList = [0]*500\n",
    "    print(\"Running prediction...\")\n",
    "    for i in range(500):\n",
    "        \n",
    "        if round((count/load)*10) != prev:\n",
    "            print(round((count/load)*10)*10, \"% complete...\")\n",
    "            t = time.time() - start_time\n",
    "            print(\"Elapsed time:\", round((t)-(t%1))/60, \"minutes\\n\")\n",
    "            prev = round((count/load)*10)\n",
    "        index = random.randrange(len(prodSplit))\n",
    "        product = prodSplit[index]\n",
    "        top10 = {}\n",
    "        top102 = {}\n",
    "        followCheck = \"\"\n",
    "        previousWord = \"\"\n",
    "        for word in product:\n",
    "            for property in trainingDict:\n",
    "                for keyword in trainingDict[property]:\n",
    "                    if word == keyword:\n",
    "                        if property in top10:\n",
    "                            if previousWord in trainingDict[property]:\n",
    "                                # TODO: Must change so doesnt multiply into total property score but into previous word's score\n",
    "                                top10[property] *= trainingDict[property][keyword]\n",
    "                            else:\n",
    "                                top10[property] += trainingDict[property][keyword]\n",
    "                        else:\n",
    "                            top10[property] = trainingDict[property][keyword]\n",
    "\n",
    "                        if property in top102:\n",
    "                            top102[property] += 1\n",
    "                        else:\n",
    "                            top102[property] = 1\n",
    "            previousWord = word\n",
    "\n",
    "\n",
    "        top10 = {k: v for k, v in sorted(top10.items(), key=lambda item: item[1], reverse=True)}\n",
    "        top102 = {k: v for k, v in sorted(top102.items(), key=lambda item: item[1], reverse=True)}\n",
    "        if len(top10) < 2 or top10[next(iter(top10))]/top10[list(top10.keys())[1]] <= 20: # This number will have to vary depending on size of data set\n",
    "            propList[i] = [prodSplit[index],\"Unmapped\"]\n",
    "            done += 1\n",
    "            continue\n",
    "        if top10 != {}:\n",
    "            propList[i] = [prodSplit[index], next(iter(top10))]\n",
    "        else:\n",
    "            propList[i] = [prodSplit[index],\"Unmapped\"]\n",
    "            done += 1\n",
    "    print(\"Mapping complete.\")\n",
    "    print((load-done)*100/load, \"% mapped\")            \n",
    "    return propList"
   ]
  },
  {
   "cell_type": "code",
   "execution_count": 62,
   "metadata": {},
   "outputs": [
    {
     "ename": "KeyboardInterrupt",
     "evalue": "",
     "output_type": "error",
     "traceback": [
      "\u001b[1;31m---------------------------------------------------------------------------\u001b[0m",
      "\u001b[1;31mKeyboardInterrupt\u001b[0m                         Traceback (most recent call last)",
      "\u001b[1;32m<ipython-input-62-51d78ed66f99>\u001b[0m in \u001b[0;36m<module>\u001b[1;34m\u001b[0m\n\u001b[0;32m      2\u001b[0m \u001b[1;31m#     for j in range(5,105,5):\u001b[0m\u001b[1;33m\u001b[0m\u001b[1;33m\u001b[0m\u001b[1;33m\u001b[0m\u001b[0m\n\u001b[0;32m      3\u001b[0m \u001b[1;31m#         print(i,\",\", j,\",\", testRandom(testing_corpus,testing_data[:,3], j/10, i))\u001b[0m\u001b[1;33m\u001b[0m\u001b[1;33m\u001b[0m\u001b[1;33m\u001b[0m\u001b[0m\n\u001b[1;32m----> 4\u001b[1;33m \u001b[0mprint\u001b[0m\u001b[1;33m(\u001b[0m\u001b[0mtestRandom\u001b[0m\u001b[1;33m(\u001b[0m\u001b[0mtesting_corpus\u001b[0m\u001b[1;33m,\u001b[0m\u001b[0mtesting_data\u001b[0m\u001b[1;33m[\u001b[0m\u001b[1;33m:\u001b[0m\u001b[1;33m,\u001b[0m\u001b[1;36m3\u001b[0m\u001b[1;33m]\u001b[0m\u001b[1;33m,\u001b[0m \u001b[1;36m4\u001b[0m\u001b[1;33m,\u001b[0m \u001b[1;32mTrue\u001b[0m\u001b[1;33m)\u001b[0m\u001b[1;33m)\u001b[0m\u001b[1;33m\u001b[0m\u001b[1;33m\u001b[0m\u001b[0m\n\u001b[0m",
      "\u001b[1;32m<ipython-input-56-6c86ec08b2e8>\u001b[0m in \u001b[0;36mtestRandom\u001b[1;34m(prodSplit, propList, thres, shouldMult)\u001b[0m\n\u001b[0;32m     30\u001b[0m                             \u001b[0mtop102\u001b[0m\u001b[1;33m[\u001b[0m\u001b[0mproperty\u001b[0m\u001b[1;33m]\u001b[0m \u001b[1;33m+=\u001b[0m \u001b[1;36m1\u001b[0m\u001b[1;33m\u001b[0m\u001b[1;33m\u001b[0m\u001b[0m\n\u001b[0;32m     31\u001b[0m                         \u001b[1;32melse\u001b[0m\u001b[1;33m:\u001b[0m\u001b[1;33m\u001b[0m\u001b[1;33m\u001b[0m\u001b[0m\n\u001b[1;32m---> 32\u001b[1;33m                             \u001b[0mtop102\u001b[0m\u001b[1;33m[\u001b[0m\u001b[0mproperty\u001b[0m\u001b[1;33m]\u001b[0m \u001b[1;33m=\u001b[0m \u001b[1;36m1\u001b[0m\u001b[1;33m\u001b[0m\u001b[1;33m\u001b[0m\u001b[0m\n\u001b[0m\u001b[0;32m     33\u001b[0m \u001b[1;31m#                         print(\"Property: \", property, trainingDict[property][keyword])\u001b[0m\u001b[1;33m\u001b[0m\u001b[1;33m\u001b[0m\u001b[1;33m\u001b[0m\u001b[0m\n\u001b[0;32m     34\u001b[0m             \u001b[0mpreviousWord\u001b[0m \u001b[1;33m=\u001b[0m \u001b[0mword\u001b[0m\u001b[1;33m\u001b[0m\u001b[1;33m\u001b[0m\u001b[0m\n",
      "\u001b[1;31mKeyboardInterrupt\u001b[0m: "
     ]
    }
   ],
   "source": [
    "# for i in [True, False]:\n",
    "#     for j in range(5,105,5):\n",
    "#         print(i,\",\", j,\",\", testRandom(testing_corpus,testing_data[:,3], j/10, i))\n",
    "print(testRandom(testing_corpus,testing_data[:,3], 4, True))"
   ]
  },
  {
   "cell_type": "code",
   "execution_count": 70,
   "metadata": {},
   "outputs": [
    {
     "name": "stdout",
     "output_type": "stream",
     "text": [
      "Running prediction...\n",
      "Mapping complete.\n",
      "64.8 % mapped\n"
     ]
    }
   ],
   "source": [
    "x = predict(testing_corpus)"
   ]
  },
  {
   "cell_type": "code",
   "execution_count": 72,
   "metadata": {},
   "outputs": [
    {
     "name": "stdout",
     "output_type": "stream",
     "text": [
      "[['mickey', 'mouse', 'pluto', 'goofy', 'donald', 'duck', 'american', 'flag', 'tee', 'shirt', 'small'], 'Mickey & Friends'] \n",
      "\n",
      "[['official', 'licensed', 'merchandise', 'lilo', 'stitch', 'vintage', 'stitch', 'unisex', 't-'], 'Lilo And Stitch'] \n",
      "\n",
      "[['ahgahg', '50pcs', 'kids', 'gift', 'party', 'boxes', 'little', 'mermaid', 'gift', 'bags', 'party', 'decora', 'an'], 'Unmapped'] \n",
      "\n",
      "[['baby', 'baby', 'minnie', 'projector'], 'Mickey & Friends'] \n",
      "\n",
      "[['mickey', 'mouse', 'pack', '10', 'bags', 'rectangular', 'maxi', 'clubhouse', '30', '40', 'cm', 'verb'], 'Mickey & Friends'] \n",
      "\n",
      "[['cars', 'maxi-colo', 'pixar'], 'Cars The Movie'] \n",
      "\n",
      "[['6.5cm', 'cinderella', 'snow', 'globe', 'beautiful', 'decoration', 'mi21'], 'Disney Princess'] \n",
      "\n",
      "[['muppets', 'it', 's', 'your', 'birthday', 'so', 'forget', 'about', 'past', 'forget', 'about', 'your', 'p'], 'Unmapped'] \n",
      "\n",
      "[['bulb', 'botz', 'bulbbotz', 'marvel', 'captain', 'america', 'alarm', 'clock'], 'Avengers'] \n",
      "\n",
      "[['marvel', 'avengers', 'super', 'heros', 'hulk', 'iron', 'man', 'xmen', '3d', 'smashed', 'wall', 'view', 'sticker'], 'Avengers'] \n",
      "\n",
      "[['fymnsi', 'rapunzel', 'princess', 'sofia', 'costume', 'kids', 'girls', 'deluxe', 'party', 'fancy', 'dress'], 'Disney Princess'] \n",
      "\n",
      "[['hong', 'jie', 'yuan', 'spiderman', 'cartoon', 'avengers', 'infinity', 'war', 'action', 'figure', 's.h.', 'f'], 'Avengers'] \n",
      "\n",
      "[['wonolo', '6', 'pack', 'refill', 'pads', 'mickey', 'mouse', 'car', 'fragrance', 'air', 'freshener', 'perf'], 'Mickey & Friends'] \n",
      "\n",
      "[['captain', 'america', 'blue', 'emblem', 'cosplay', 'pvc', 'airsoft', 'patch'], 'Avengers'] \n",
      "\n",
      "[['lilo', 'stitch', 'mouse', 'mat', 'gaming', 'mouse', 'pad', 'non-slip', 'rubber', 'base', 'durab'], 'Unmapped'] \n",
      "\n",
      "[['crocs', 'kids', 'funlab', 'frozen', '2', 'clog', 'blue', 'mineral', 'blue', '4jq', '11', '28', '29'], 'Disney Frozen'] \n",
      "\n",
      "[['mickey', 'mouse', 'garland', 'paper', 'garland', '-party', 'supplies', 'club', 'house', 'inspirati'], 'Mickey & Friends'] \n",
      "\n",
      "[['mickey', 's', 'top', '40'], 'Mickey & Friends'] \n",
      "\n",
      "[['phone', 'case', 'iphone', '6', '6s', 'frozen', 'elsa', 'anna', 'olaf', 'snowman', '10', 'designs'], 'Disney Frozen'] \n",
      "\n",
      "[['official', 'licensed', 'merchandise', 'lilo', 'stitch', 'vintage', 'stitch', 'unisex', 't-'], 'Lilo And Stitch'] \n",
      "\n"
     ]
    }
   ],
   "source": [
    "for i in range(20):\n",
    "    j = random.randrange(len(x))\n",
    "#     if x[j][1] == \"Unmapped\": continue\n",
    "    print(x[j],\"\\n\")"
   ]
  },
  {
   "cell_type": "code",
   "execution_count": null,
   "metadata": {},
   "outputs": [],
   "source": []
  }
 ],
 "metadata": {
  "kernelspec": {
   "display_name": "Python 3",
   "language": "python",
   "name": "python3"
  },
  "language_info": {
   "codemirror_mode": {
    "name": "ipython",
    "version": 3
   },
   "file_extension": ".py",
   "mimetype": "text/x-python",
   "name": "python",
   "nbconvert_exporter": "python",
   "pygments_lexer": "ipython3",
   "version": "3.8.3"
  }
 },
 "nbformat": 4,
 "nbformat_minor": 4
}
